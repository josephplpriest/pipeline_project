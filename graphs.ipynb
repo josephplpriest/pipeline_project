{
 "cells": [
  {
   "cell_type": "code",
   "execution_count": 1,
   "metadata": {},
   "outputs": [],
   "source": [
    "import sqlite3\n",
    "import pprint\n",
    "import pandas as pd\n",
    "import plotly.express as px\n",
    "import yaml\n",
    "\n",
    "conn = sqlite3.connect(\"scraping_stats.db\")"
   ]
  },
  {
   "cell_type": "code",
   "execution_count": 2,
   "metadata": {},
   "outputs": [],
   "source": [
    "config = yaml.load(\"config.yml\", Loader=yaml.Loader)"
   ]
  },
  {
   "cell_type": "code",
   "execution_count": null,
   "metadata": {},
   "outputs": [],
   "source": [
    "query = \"SELECT * FROM %\".format(config[\"log_table\"])"
   ]
  },
  {
   "cell_type": "code",
   "execution_count": 3,
   "metadata": {},
   "outputs": [
    {
     "ename": "TypeError",
     "evalue": "string indices must be integers",
     "output_type": "error",
     "traceback": [
      "\u001b[0;31m---------------------------------------------------------------------------\u001b[0m",
      "\u001b[0;31mTypeError\u001b[0m                                 Traceback (most recent call last)",
      "\u001b[1;32m/home/paul/Desktop/pipeline_project/graphs.ipynb Cell 4'\u001b[0m in \u001b[0;36m<cell line: 1>\u001b[0;34m()\u001b[0m\n\u001b[0;32m----> <a href='vscode-notebook-cell:/home/paul/Desktop/pipeline_project/graphs.ipynb#ch0000001?line=0'>1</a>\u001b[0m pd\u001b[39m.\u001b[39mread_sql(\u001b[39m\"\u001b[39m\u001b[39mSELECT * FROM ?\u001b[39m\u001b[39m\"\u001b[39m, (config[\u001b[39m\"\u001b[39;49m\u001b[39mlog_table\u001b[39;49m\u001b[39m\"\u001b[39;49m]), con\u001b[39m=\u001b[39mconn)\n",
      "\u001b[0;31mTypeError\u001b[0m: string indices must be integers"
     ]
    }
   ],
   "source": [
    "pd.read_sql(, con=conn)"
   ]
  },
  {
   "cell_type": "code",
   "execution_count": null,
   "metadata": {},
   "outputs": [],
   "source": []
  }
 ],
 "metadata": {
  "kernelspec": {
   "display_name": "Python 3.10.4 ('pipeline_project')",
   "language": "python",
   "name": "python3"
  },
  "language_info": {
   "codemirror_mode": {
    "name": "ipython",
    "version": 3
   },
   "file_extension": ".py",
   "mimetype": "text/x-python",
   "name": "python",
   "nbconvert_exporter": "python",
   "pygments_lexer": "ipython3",
   "version": "3.10.4"
  },
  "orig_nbformat": 4,
  "vscode": {
   "interpreter": {
    "hash": "bf679925cc37f6fa6e403c8c0d2c544cbd81d2b7b2535113564b322ebdb2b2d9"
   }
  }
 },
 "nbformat": 4,
 "nbformat_minor": 2
}
